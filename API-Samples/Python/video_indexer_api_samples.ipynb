{
 "cells": [
  {
   "cell_type": "markdown",
   "metadata": {},
   "source": [
    "### Video Indexer API Samples (Python)"
   ]
  },
  {
   "cell_type": "markdown",
   "metadata": {},
   "source": [
    "This notebook provides samples for the following operations in Video Indexer:   \n",
    "\n",
    "(1) Get account details.   \n",
    "(2) Upload a video from URL.   \n",
    "(2A) Upload a video from local file.   \n",
    "(3) Wait for the video to finish indexing.   \n",
    "(4) Search for video and get insights.\n",
    "(5) Use the Widgets API.   \n",
    "   \n",
    "Make sure you're logged-in with `az` to authenticate your account.   \n",
    "   \n",
    "Copy the `.env.example` file to a new file named `.env`, and update the values with your own account settings."
   ]
  },
  {
   "cell_type": "code",
   "execution_count": null,
   "metadata": {},
   "outputs": [],
   "source": [
    "# imports\n",
    "from dotenv import dotenv_values\n",
    "from pprint import pprint\n",
    "\n",
    "from VideoIndexerClient.Consts import Consts\n",
    "from VideoIndexerClient.VideoIndexerClient import VideoIndexerClient"
   ]
  },
  {
   "cell_type": "markdown",
   "metadata": {},
   "source": [
    "Define the following parameters based on your account settings, in case they are different or not defined as environment variables:"
   ]
  },
  {
   "cell_type": "code",
   "execution_count": null,
   "metadata": {},
   "outputs": [],
   "source": [
    "config = dotenv_values(\".env\")\n",
    "\n",
    "AccountName = config.get('AccountName')\n",
    "ResourceGroup = config.get('ResourceGroup')\n",
    "SubscriptionId = config.get('SubscriptionId')\n",
    "\n",
    "ApiVersion = '2024-01-01'\n",
    "ApiEndpoint = 'https://api.videoindexer.ai'\n",
    "AzureResourceManager = 'https://management.azure.com'\n",
    "\n",
    "# create and validate consts\n",
    "consts = Consts(ApiVersion, ApiEndpoint, AzureResourceManager, AccountName, ResourceGroup, SubscriptionId)"
   ]
  },
  {
   "cell_type": "code",
   "execution_count": null,
   "metadata": {},
   "outputs": [],
   "source": [
    "# Authenticate\n",
    "\n",
    "# create Video Indexer Client\n",
    "client = VideoIndexerClient()\n",
    "\n",
    "# Get access tokens (arm and Video Indexer account)\n",
    "client.authenticate_async(consts)"
   ]
  },
  {
   "cell_type": "markdown",
   "metadata": {},
   "source": [
    "#### Sample 1 - Get Account Basic Details\n",
    "Get account details, not required in most cases."
   ]
  },
  {
   "cell_type": "code",
   "execution_count": null,
   "metadata": {},
   "outputs": [],
   "source": [
    "client.get_account_async()"
   ]
  },
  {
   "cell_type": "markdown",
   "metadata": {},
   "source": [
    "#### Sample 2 - Index a Video from URL\n",
    "Upload a video from URL, do not wait for the index operation to complete.   \n",
    "Define `videoUrl` and `ExcludedAI` first.   \n",
    "`ExcludedAI` - A list of the AIs you would like to exclude in the format `['Faces', 'Labels', 'Emotions','ObservedPeople']`. Leave empty if you do not want to exclude any AIs. For more details see [here](https://api-portal.videoindexer.ai/api-details#api=Operations&operation=Upload-Video:~:text=AI%20to%20exclude%20when%20indexing%2C%20for%20example%20for%20sensitive%20scenarios.%20Options%20are%3A%20Face/Observed%20peopleEmotions/Labels%7D)."
   ]
  },
  {
   "cell_type": "code",
   "execution_count": null,
   "metadata": {},
   "outputs": [],
   "source": [
    "VideoUrl = 'YOUR_VIDEO_URL'\n",
    "ExcludedAI = []\n",
    "\n",
    "video_id = client.upload_url_async('my-video-name', VideoUrl, ExcludedAI, False)"
   ]
  },
  {
   "cell_type": "markdown",
   "metadata": {},
   "source": [
    "#### Sample 2A - Index a Video From File\n",
    "Upload From Local File.   \n",
    "Define `LocalVideoPath` first."
   ]
  },
  {
   "cell_type": "code",
   "execution_count": null,
   "metadata": {},
   "outputs": [],
   "source": [
    "LocalVideoPath = 'YOUR_LOCAL_VIDEO_FILE_PATH'\n",
    "\n",
    "file_video_id = client.file_upload_async(LocalVideoPath, video_name=None, excluded_ai=ExcludedAI)"
   ]
  },
  {
   "cell_type": "markdown",
   "metadata": {},
   "source": [
    "#### Sample 3 - Polling on Video Completion Event\n",
    "Wait for the video index to finish (Polling method)."
   ]
  },
  {
   "cell_type": "code",
   "execution_count": null,
   "metadata": {},
   "outputs": [],
   "source": [
    "client.wait_for_index_async(file_video_id)"
   ]
  },
  {
   "cell_type": "markdown",
   "metadata": {},
   "source": [
    "#### Sample 4 - Get the Video insights\n",
    "Get the video insights."
   ]
  },
  {
   "cell_type": "code",
   "execution_count": null,
   "metadata": {},
   "outputs": [],
   "source": [
    "insights = client.get_video_async(file_video_id)\n",
    "pprint(insights)"
   ]
  },
  {
   "cell_type": "markdown",
   "metadata": {},
   "source": [
    "#### Sample 5 - Widgets API"
   ]
  },
  {
   "cell_type": "code",
   "execution_count": null,
   "metadata": {},
   "outputs": [],
   "source": [
    "client.get_insights_widgets_url_async(video_id, widget_type='Keywords')\n",
    "client.get_player_widget_url_async(video_id)"
   ]
  },
  {
   "cell_type": "markdown",
   "metadata": {},
   "source": [
    "#### Sample 6 - Prompt Content API"
   ]
  },
  {
   "cell_type": "code",
   "execution_count": null,
   "metadata": {},
   "outputs": [],
   "source": [
    "\n",
    "prompt_content = client.get_prompt_content(file_video_id)\n",
    "pprint(prompt_content)"
   ]
  }
 ],
 "metadata": {
  "kernelspec": {
   "display_name": "vi_client",
   "language": "python",
   "name": "python3"
  },
  "language_info": {
   "codemirror_mode": {
    "name": "ipython",
    "version": 3
   },
   "file_extension": ".py",
   "mimetype": "text/x-python",
   "name": "python",
   "nbconvert_exporter": "python",
   "pygments_lexer": "ipython3",
   "version": "3.9.18"
  }
 },
 "nbformat": 4,
 "nbformat_minor": 2
}
