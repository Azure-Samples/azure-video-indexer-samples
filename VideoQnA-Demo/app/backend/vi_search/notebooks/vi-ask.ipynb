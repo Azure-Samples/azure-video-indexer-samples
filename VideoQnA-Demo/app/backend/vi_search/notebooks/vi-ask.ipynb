{
 "cells": [
  {
   "cell_type": "code",
   "execution_count": null,
   "metadata": {},
   "outputs": [],
   "source": [
    "from pathlib import Path\n",
    "import sys\n",
    "\n",
    "\n",
    "base_path = Path.cwd().parent.parent\n",
    "sys.path.insert(0, str(base_path))\n",
    "print(sys.path)"
   ]
  },
  {
   "cell_type": "code",
   "execution_count": null,
   "metadata": {},
   "outputs": [],
   "source": [
    "from vi_search.prompt_content_db.chroma_db import ChromaDB\n",
    "from vi_search.prompt_content_db.azure_search import AzureVectorSearch\n",
    "\n",
    "from vi_search.language_models.azure_openai import OpenAI\n",
    "from vi_search.language_models.dummy_lm import DummyLanguageModels\n",
    "\n",
    "from vi_search.ask import RetrieveThenReadVectorApproach\n"
   ]
  },
  {
   "cell_type": "code",
   "execution_count": null,
   "metadata": {},
   "outputs": [],
   "source": [
    "prompt_content_db = ChromaDB()\n",
    "# prompt_content_db = AzureVectorSearch()\n",
    "\n",
    "language_models = OpenAI()\n",
    "# language_models = DummyLanguageModels()"
   ]
  },
  {
   "cell_type": "code",
   "execution_count": null,
   "metadata": {},
   "outputs": [],
   "source": [
    "ask = RetrieveThenReadVectorApproach(prompt_content_db=prompt_content_db,\n",
    "                                     language_models=language_models,\n",
    "                                     extract_references=True,\n",
    "                                     ask_template_key=\"default\",\n",
    "                                     temperature=0.5,\n",
    "                                     top_n=3)"
   ]
  },
  {
   "cell_type": "code",
   "execution_count": null,
   "metadata": {},
   "outputs": [],
   "source": [
    "available_dbs = prompt_content_db.get_available_dbs()\n",
    "print(available_dbs)"
   ]
  },
  {
   "cell_type": "code",
   "execution_count": null,
   "metadata": {},
   "outputs": [],
   "source": [
    "db_name = available_dbs[0]\n",
    "\n",
    "# question = \"Which insights are supported in Video Indexed?\"  # Interesting answer\n",
    "question = \"Which objects can be detected?\"  # Interesting answer\n",
    "# question = \"What is the age of the universe?\"  # Acpected result: \"I didn't find the answer, can you please rephrase?\"\n",
    "result = ask.run(q=question, overrides={\"index\": db_name})\n",
    "\n",
    "print(result)"
   ]
  },
  {
   "cell_type": "code",
   "execution_count": null,
   "metadata": {},
   "outputs": [],
   "source": [
    "result.keys()\n"
   ]
  },
  {
   "cell_type": "code",
   "execution_count": null,
   "metadata": {},
   "outputs": [],
   "source": [
    "print(result['answer'])"
   ]
  },
  {
   "cell_type": "code",
   "execution_count": null,
   "metadata": {},
   "outputs": [],
   "source": [
    "result['references']"
   ]
  },
  {
   "cell_type": "code",
   "execution_count": null,
   "metadata": {},
   "outputs": [],
   "source": []
  }
 ],
 "metadata": {
  "kernelspec": {
   "display_name": "Python 3",
   "language": "python",
   "name": "python3"
  },
  "language_info": {
   "codemirror_mode": {
    "name": "ipython",
    "version": 3
   },
   "file_extension": ".py",
   "mimetype": "text/x-python",
   "name": "python",
   "nbconvert_exporter": "python",
   "pygments_lexer": "ipython3",
   "version": "3.10.10"
  },
  "orig_nbformat": 4,
  "vscode": {
   "interpreter": {
    "hash": "c40b9fc8dfc687e53ddb074d322e19207ef9cf3db51c580aef67976913dea803"
   }
  }
 },
 "nbformat": 4,
 "nbformat_minor": 2
}
